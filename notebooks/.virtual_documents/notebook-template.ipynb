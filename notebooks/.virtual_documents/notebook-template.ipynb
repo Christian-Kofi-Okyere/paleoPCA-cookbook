




















#To deal with model data
import s3fs
import fsspec
import xarray as xr
import glob

#To deal with proxy data
import pandas as pd
import numpy as np

#To deal with analysis
import pyleoclim as pyleo
from eofs.xarray import Eof

#Plotting and mapping
import cartopy.crs as ccrs
import matplotlib.pyplot as plt








URL = 'https://js2.jetstream-cloud.org:8001/' #Locate and read a file


path = f'pythia/cesmLME' # specify data location


fs = fsspec.filesystem("s3", anon=True, client_kwargs=dict(endpoint_url=URL)) 
pattern = f's3://{path}/*.nc'
files = sorted(fs.glob(pattern))





base_name = 'pythia/cesmLME/b.ie12.B1850C5CN.f19_g16.LME.002.cam.h0.'
time_period =  '085001-184912'

names = [name for name in files if base_name in name and time_period in name]

names


fileset = [fs.open(file) for file in names]





%%time
for idx,item in enumerate(fileset):
    ds_u = xr.open_dataset(item)
    var_name = names[idx].split('.')[-3]
    da = ds_u[var_name]
    try:
        ds[var_name]= da
    except:
        ds = da.to_dataset()
        ds.attrs = ds_u.attrs 
    ds_u.close()
    da.close()


ds





ds_geo = ds.sel(lat=slice(-27,27), lon=slice(250,330))





#ds_geo.to_netcdf(path='../data/LME.002.cam.h0.precip_iso.085001-184912.nc')


ds_geo





%%time
p16O = ds_geo['PRECRC_H216Or'] + ds_geo['PRECSC_H216Os'] + ds_geo['PRECRL_H216OR'] + ds_geo['PRECSL_H216OS']
p18O = ds_geo['PRECRC_H218Or'] + ds_geo['PRECSC_H218Os'] + ds_geo['PRECRL_H218OR'] + ds_geo['PRECSL_H218OS']

p16O = p16O.where(p16O > 1e-18, 1e-18)
p18O = p18O.where(p18O > 1e-18, 1e-18)

d18Op = (p18O / p16O - 1)*1000





d18Oa = d18Op - d18Op.mean(dim='time')





solver = Eof(d18Oa, weights=None)





eof1 = solver.eofsAsCovariance(neofs=1)





clevs = np.linspace(-2, 5, 20)
proj = ccrs.PlateCarree(central_longitude=290)
ax = plt.axes(projection=proj)
ax.coastlines()
#ax.set_global()
eof1[0].plot.contourf(ax=ax, levels = clevs, cmap=plt.cm.RdBu_r,
                         transform=ccrs.PlateCarree(), add_colorbar=True)
ax.set_title('EOF1 expressed as covariance', fontsize=16)
plt.show()





# some subsection code
new = "helpful information"













































