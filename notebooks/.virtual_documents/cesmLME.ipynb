








import s3fs
import fsspec
import xarray as xr
import glob





URL = 'https://js2.jetstream-cloud.org:8001/'








path = f'pythia/cesmLME'











fs = fsspec.filesystem("s3", anon=True, client_kwargs=dict(endpoint_url=URL))


pattern = f's3://{path}/*.nc'


files = sorted(fs.glob(pattern))





files[0:2]


fileset = [fs.open(file) for file in files[0:2]]


data = xr.open_dataset(fileset[0])


data





# This works
dataMul = xr.open_mfdataset(fileset[:3], combine='by_coords')


dataMul












